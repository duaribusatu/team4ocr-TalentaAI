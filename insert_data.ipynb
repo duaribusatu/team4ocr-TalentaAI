{
 "cells": [
  {
   "cell_type": "code",
   "execution_count": null,
   "metadata": {},
   "outputs": [],
   "source": [
    "from azure.identity import DefaultAzureCredential\n",
    "from azure.search.documents import SearchClient\n",
    "\n",
    "service_endpoint = os.getenv(\"AZURE_SEARCH_SERVICE_ENDPOINT\")\n",
    "index_name = os.getenv(\"AZURE_SEARCH_INDEX_NAME\")\n",
    "credential = DefaultAzureCredential()\n",
    "\n",
    "search_client = SearchClient(service_endpoint, index_name, credential)"
   ]
  },
  {
   "cell_type": "code",
   "execution_count": null,
   "metadata": {},
   "outputs": [],
   "source": [
    "DOCUMENT = {\n",
    "    \"category\": \"Hotel\",\n",
    "    \"hotelId\": \"1000\",\n",
    "    \"rating\": 4.0,\n",
    "    \"rooms\": [],\n",
    "    \"hotelName\": \"Azure Inn\",\n",
    "}\n",
    "\n",
    "result = search_client.upload_documents(documents=[DOCUMENT])\n",
    "\n",
    "print(\"Upload of new document succeeded: {}\".format(result[0].succeeded))"
   ]
  },
  {
   "cell_type": "markdown",
   "metadata": {},
   "source": [
    "# Regex"
   ]
  },
  {
   "cell_type": "code",
   "execution_count": 1,
   "metadata": {},
   "outputs": [],
   "source": [
    "import re"
   ]
  },
  {
   "cell_type": "code",
   "execution_count": 31,
   "metadata": {},
   "outputs": [
    {
     "name": "stdout",
     "output_type": "stream",
     "text": [
      "Nasi putih (sebaiknya nasi yang sudah dingin atau setidaknya agak kering): sekitar 3-4 gelas atau sesuai kebutuhan\n",
      "Minyak goreng (biasanya minyak sayur atau minyak wijen): 2-3 sendok makan\n",
      "Bawang putih cincang: 2 siung\n",
      "Bawang merah cincang: 2 buah\n",
      "Telur: 2 butir, dikocok\n",
      "Sayuran (opsional, seperti wortel, kacang polong, buncis, kol, paprika, atau lainnya): secukupnya, potong kecil-kecil\n",
      "Daging (opsional, seperti ayam, udang, sapi, atau daging lainnya): secukupnya, potong kecil-kecil\n",
      "Kecap manis: 2-3 sendok makan\n",
      "Kecap asin: 1-2 sendok makan\n",
      "Garam: secukupnya\n",
      "Merica: secukupnya\n",
      "Bumbu penyedap (opsional): secukupnya\n",
      "Bawang goreng (opsional): untuk taburan\n"
     ]
    }
   ],
   "source": [
    "user_input = '''\n",
    "1 buah [tahu cina]\n",
    "1/4 sdt [garam] \n",
    "2 [siung bawang putih], haluskan \n",
    "100 ml air \n",
    "3 buah lontong, potong \n",
    "150 gram taoge\n",
    "50 gram bihun\n",
    "1 sdm kecap manis untuk penyajian \n",
    "1 sdm bawang merah goreng untuk taburan \n",
    "50 gram kerupuk kanji, goreng \n",
    "1 buah mentimun, potong \n",
    "4 bagian, iris Minyak goreng\n",
    "'''\n",
    "\n",
    "user_input = '''\n",
    "Nasi putih (sebaiknya nasi yang sudah dingin atau setidaknya agak kering): sekitar 3-4 gelas atau sesuai kebutuhan\n",
    "Minyak goreng (biasanya minyak sayur atau minyak wijen): 2-3 sendok makan\n",
    "Bawang putih cincang: 2 siung\n",
    "Bawang merah cincang: 2 buah\n",
    "Telur: 2 butir, dikocok\n",
    "Sayuran (opsional, seperti wortel, kacang polong, buncis, kol, paprika, atau lainnya): secukupnya, potong kecil-kecil\n",
    "Daging (opsional, seperti ayam, udang, sapi, atau daging lainnya): secukupnya, potong kecil-kecil\n",
    "Kecap manis: 2-3 sendok makan\n",
    "Kecap asin: 1-2 sendok makan\n",
    "Garam: secukupnya\n",
    "Merica: secukupnya\n",
    "Bumbu penyedap (opsional): secukupnya\n",
    "Bawang goreng (opsional): untuk taburan\n",
    "'''\n",
    "\n",
    "user_input = user_input.strip()\n",
    "print(user_input)"
   ]
  },
  {
   "cell_type": "code",
   "execution_count": 32,
   "metadata": {},
   "outputs": [
    {
     "data": {
      "text/plain": [
       "['Nasi putih (sebaiknya nasi yang sudah dingin atau setidaknya agak kering): sekitar 3-4 gelas atau sesuai kebutuhan',\n",
       " 'Minyak goreng (biasanya minyak sayur atau minyak wijen): 2-3 sendok makan',\n",
       " 'Bawang putih cincang: 2 siung',\n",
       " 'Bawang merah cincang: 2 buah',\n",
       " 'Telur: 2 butir, dikocok',\n",
       " 'Sayuran (opsional, seperti wortel, kacang polong, buncis, kol, paprika, atau lainnya): secukupnya, potong kecil-kecil',\n",
       " 'Daging (opsional, seperti ayam, udang, sapi, atau daging lainnya): secukupnya, potong kecil-kecil',\n",
       " 'Kecap manis: 2-3 sendok makan',\n",
       " 'Kecap asin: 1-2 sendok makan',\n",
       " 'Garam: secukupnya',\n",
       " 'Merica: secukupnya',\n",
       " 'Bumbu penyedap (opsional): secukupnya',\n",
       " 'Bawang goreng (opsional): untuk taburan']"
      ]
     },
     "execution_count": 32,
     "metadata": {},
     "output_type": "execute_result"
    }
   ],
   "source": [
    "lines = user_input.split('\\n')\n",
    "lines"
   ]
  },
  {
   "cell_type": "code",
   "execution_count": 35,
   "metadata": {},
   "outputs": [
    {
     "data": {
      "text/plain": [
       "'Bawang merah cincang: 2 buah'"
      ]
     },
     "execution_count": 35,
     "metadata": {},
     "output_type": "execute_result"
    }
   ],
   "source": [
    "line = lines[5]\n",
    "line = lines[3]\n",
    "line"
   ]
  },
  {
   "cell_type": "code",
   "execution_count": 37,
   "metadata": {},
   "outputs": [
    {
     "data": {
      "text/plain": [
       "'2 buah'"
      ]
     },
     "execution_count": 37,
     "metadata": {},
     "output_type": "execute_result"
    }
   ],
   "source": [
    "satuan = re.search(r'[\\d]+( gram)?( buah)?', line)[0]\n",
    "satuan"
   ]
  },
  {
   "cell_type": "code",
   "execution_count": 38,
   "metadata": {},
   "outputs": [
    {
     "data": {
      "text/plain": [
       "'2 buah'"
      ]
     },
     "execution_count": 38,
     "metadata": {},
     "output_type": "execute_result"
    }
   ],
   "source": [
    "satuan"
   ]
  },
  {
   "cell_type": "code",
   "execution_count": 39,
   "metadata": {},
   "outputs": [
    {
     "data": {
      "text/plain": [
       "'Bawang merah cincang:'"
      ]
     },
     "execution_count": 39,
     "metadata": {},
     "output_type": "execute_result"
    }
   ],
   "source": [
    "bahan = line.replace(satuan, '')\n",
    "bahan = bahan.strip()\n",
    "bahan"
   ]
  },
  {
   "cell_type": "code",
   "execution_count": 40,
   "metadata": {},
   "outputs": [
    {
     "name": "stdout",
     "output_type": "stream",
     "text": [
      "('Bawang merah cincang:', '2 buah')\n"
     ]
    }
   ],
   "source": [
    "print((bahan, satuan))"
   ]
  },
  {
   "cell_type": "code",
   "execution_count": 41,
   "metadata": {},
   "outputs": [
    {
     "data": {
      "text/plain": [
       "('Bawang merah cincang:  buah', '2')"
      ]
     },
     "execution_count": 41,
     "metadata": {},
     "output_type": "execute_result"
    }
   ],
   "source": [
    "def extract(line):\n",
    "    satuan = re.search(r'[\\d]+( gram)?', line)[0]\n",
    "    bahan = line.replace(satuan, '')\n",
    "    bahan = bahan.strip()\n",
    "    return bahan, satuan\n",
    "\n",
    "extract(line)"
   ]
  },
  {
   "cell_type": "code",
   "execution_count": 30,
   "metadata": {},
   "outputs": [
    {
     "data": {
      "text/html": [
       "<div>\n",
       "<style scoped>\n",
       "    .dataframe tbody tr th:only-of-type {\n",
       "        vertical-align: middle;\n",
       "    }\n",
       "\n",
       "    .dataframe tbody tr th {\n",
       "        vertical-align: top;\n",
       "    }\n",
       "\n",
       "    .dataframe thead th {\n",
       "        text-align: right;\n",
       "    }\n",
       "</style>\n",
       "<table border=\"1\" class=\"dataframe\">\n",
       "  <thead>\n",
       "    <tr style=\"text-align: right;\">\n",
       "      <th></th>\n",
       "      <th>0</th>\n",
       "      <th>1</th>\n",
       "    </tr>\n",
       "  </thead>\n",
       "  <tbody>\n",
       "    <tr>\n",
       "      <th>0</th>\n",
       "      <td>buah [tahu cina]</td>\n",
       "      <td>1</td>\n",
       "    </tr>\n",
       "    <tr>\n",
       "      <th>1</th>\n",
       "      <td>/4 sdt [garam]</td>\n",
       "      <td>1</td>\n",
       "    </tr>\n",
       "    <tr>\n",
       "      <th>2</th>\n",
       "      <td>[siung bawang putih], haluskan</td>\n",
       "      <td>2</td>\n",
       "    </tr>\n",
       "    <tr>\n",
       "      <th>3</th>\n",
       "      <td>ml air</td>\n",
       "      <td>100</td>\n",
       "    </tr>\n",
       "    <tr>\n",
       "      <th>4</th>\n",
       "      <td>buah lontong, potong</td>\n",
       "      <td>3</td>\n",
       "    </tr>\n",
       "    <tr>\n",
       "      <th>5</th>\n",
       "      <td>taoge</td>\n",
       "      <td>150 gram</td>\n",
       "    </tr>\n",
       "    <tr>\n",
       "      <th>6</th>\n",
       "      <td>bihun</td>\n",
       "      <td>50 gram</td>\n",
       "    </tr>\n",
       "    <tr>\n",
       "      <th>7</th>\n",
       "      <td>sdm kecap manis untuk penyajian</td>\n",
       "      <td>1</td>\n",
       "    </tr>\n",
       "    <tr>\n",
       "      <th>8</th>\n",
       "      <td>sdm bawang merah goreng untuk taburan</td>\n",
       "      <td>1</td>\n",
       "    </tr>\n",
       "    <tr>\n",
       "      <th>9</th>\n",
       "      <td>kerupuk kanji, goreng</td>\n",
       "      <td>50 gram</td>\n",
       "    </tr>\n",
       "    <tr>\n",
       "      <th>10</th>\n",
       "      <td>buah mentimun, potong</td>\n",
       "      <td>1</td>\n",
       "    </tr>\n",
       "    <tr>\n",
       "      <th>11</th>\n",
       "      <td>bagian, iris Minyak goreng</td>\n",
       "      <td>4</td>\n",
       "    </tr>\n",
       "  </tbody>\n",
       "</table>\n",
       "</div>"
      ],
      "text/plain": [
       "                                        0         1\n",
       "0                        buah [tahu cina]         1\n",
       "1                          /4 sdt [garam]         1\n",
       "2          [siung bawang putih], haluskan         2\n",
       "3                                  ml air       100\n",
       "4                    buah lontong, potong         3\n",
       "5                                   taoge  150 gram\n",
       "6                                   bihun   50 gram\n",
       "7         sdm kecap manis untuk penyajian         1\n",
       "8   sdm bawang merah goreng untuk taburan         1\n",
       "9                   kerupuk kanji, goreng   50 gram\n",
       "10                  buah mentimun, potong         1\n",
       "11             bagian, iris Minyak goreng         4"
      ]
     },
     "execution_count": 30,
     "metadata": {},
     "output_type": "execute_result"
    }
   ],
   "source": [
    "import pandas as pd\n",
    "\n",
    "pd.DataFrame([extract(line) for line in lines])"
   ]
  },
  {
   "cell_type": "code",
   "execution_count": null,
   "metadata": {},
   "outputs": [],
   "source": []
  }
 ],
 "metadata": {
  "kernelspec": {
   "display_name": "ml-base",
   "language": "python",
   "name": "python3"
  },
  "language_info": {
   "codemirror_mode": {
    "name": "ipython",
    "version": 3
   },
   "file_extension": ".py",
   "mimetype": "text/x-python",
   "name": "python",
   "nbconvert_exporter": "python",
   "pygments_lexer": "ipython3",
   "version": "3.8.16"
  }
 },
 "nbformat": 4,
 "nbformat_minor": 2
}
